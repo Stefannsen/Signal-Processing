{
 "cells": [
  {
   "cell_type": "markdown",
   "id": "2e446a92",
   "metadata": {},
   "source": [
    "# Note Muzicale\n",
    "\n",
    "### Marculescu Andrei & Stefan Negulescu"
   ]
  },
  {
   "cell_type": "markdown",
   "id": "ff9c6e2d",
   "metadata": {},
   "source": [
    "Importam librariile de care avem nevoie & definim functia sinus"
   ]
  },
  {
   "cell_type": "code",
   "execution_count": 1,
   "id": "b66fa590",
   "metadata": {},
   "outputs": [],
   "source": [
    "import numpy as np\n",
    "import matplotlib.pyplot as plt\n",
    "import sounddevice as sd"
   ]
  },
  {
   "cell_type": "code",
   "execution_count": 2,
   "id": "ee279eac",
   "metadata": {},
   "outputs": [],
   "source": [
    "def sine (amplitude, frequency, time, phase):\n",
    "    return amplitude * np.sin (2 * np.pi * frequency * time + phase)"
   ]
  },
  {
   "cell_type": "markdown",
   "id": "4311b5ce",
   "metadata": {},
   "source": [
    "Crearea unui semnal cu frecventa 440 si redarea acestuia folosind _sounddevice_"
   ]
  },
  {
   "cell_type": "code",
   "execution_count": 3,
   "id": "cca5c223",
   "metadata": {},
   "outputs": [],
   "source": [
    "time_of_view = 2     \n",
    "frequency = 440      \n",
    "amplitude = 10000\n",
    "phase = 0\n",
    "sampling_rate = 44100\n",
    "sampling_period = 1./sampling_rate  # s\n",
    "n_samples = time_of_view/sampling_period\n",
    "time = np.linspace (0, time_of_view, int(n_samples + 1))\n",
    "tone = sine(amplitude, frequency, time, phase)"
   ]
  },
  {
   "cell_type": "code",
   "execution_count": 4,
   "id": "2b992f54",
   "metadata": {},
   "outputs": [],
   "source": [
    "sd.default.samplerate = sampling_rate\n",
    "wav_wave = np.array(tone, dtype=np.int16)\n",
    "sd.play(wav_wave, blocking=True)\n",
    "#sd.stop()"
   ]
  },
  {
   "cell_type": "markdown",
   "id": "18de75d8",
   "metadata": {},
   "source": [
    "\n",
    "\n",
    "# 1. Scrieți tonurile pentru notele muzicale Do, Re, Mi, Fa, Sol, La, Si, Do.\n",
    "\n",
    "\n",
    "Incepem prin a ne definii un dictionar cu notele muzicale clasice si frecventele acestora, si in plus 2 tipuri de pauze pe care le putem adauga in partitura creata de noi.\n",
    "\n"
   ]
  },
  {
   "cell_type": "code",
   "execution_count": 5,
   "id": "e100dc48",
   "metadata": {},
   "outputs": [],
   "source": [
    "musical_notes = {'Do1' :392, \n",
    "                 'Re': 440, \n",
    "                 'Mi': 494, \n",
    "                 'Fa': 523, \n",
    "                 'Sol': 587, \n",
    "                 'La': 659, \n",
    "                 'Si': 740, \n",
    "                 'Do2': 784, \n",
    "                 'Pause_Small': 10, \n",
    "                 'Pause_Big': 15}\n"
   ]
  },
  {
   "cell_type": "markdown",
   "id": "fece9c20",
   "metadata": {},
   "source": [
    "Iteram prin dictionar, pentru fiecare element diferit de cele 2 pauze, generam un semnal cu frecventa specifica notei, pe care il adaugam la o lista."
   ]
  },
  {
   "cell_type": "code",
   "execution_count": 6,
   "id": "e8d491bd",
   "metadata": {},
   "outputs": [],
   "source": [
    "time_of_view = 1\n",
    "amplitude = 10000\n",
    "phase = 0\n",
    "sampling_rate = 44100\n",
    "sampling_period = 1./sampling_rate \n",
    "n_samples = time_of_view/sampling_period\n",
    "time = np.linspace (0, time_of_view, int(n_samples + 1))\n",
    "\n",
    "tones = []\n",
    "for k, v in musical_notes.items():\n",
    "    if k != 'Pause_Small' and k != 'Pause_Big':\n",
    "        tones.append(sine(amplitude, v, time, phase))"
   ]
  },
  {
   "cell_type": "markdown",
   "id": "39a3fae0",
   "metadata": {},
   "source": [
    "Pentru fiecare ton din lista, il redam."
   ]
  },
  {
   "cell_type": "code",
   "execution_count": 7,
   "id": "8f525007",
   "metadata": {},
   "outputs": [],
   "source": [
    "sd.default.samplerate = sampling_rate\n",
    "for i in range(len(tones)):\n",
    "    wav_wave = np.array(tones[i], dtype=np.int16)\n",
    "    sd.play(wav_wave, blocking=True)\n",
    "    \n",
    "sd.stop()"
   ]
  },
  {
   "cell_type": "markdown",
   "id": "16a6d0da",
   "metadata": {},
   "source": [
    "#  2. Compuneți un cântec simplu clasic (ex. Frère Jacques) într-un singur semnal."
   ]
  },
  {
   "cell_type": "markdown",
   "id": "bf576ed0",
   "metadata": {},
   "source": [
    "Definim timpi pentru note si cele 2 tipuri de pauze, prin functia _makeSong_ concatenam semnalele generate pentru fiecare nota sau pauza citita din lista _songNotes_ care este data ca parametru functiei\n",
    "\n",
    "Functia returneaza un singur semnal _song_ pe care il redam."
   ]
  },
  {
   "cell_type": "code",
   "execution_count": 8,
   "id": "b505641d",
   "metadata": {},
   "outputs": [],
   "source": [
    "time_of_view = 0.5\n",
    "time_of_view_pause_small = 0.15\n",
    "time_of_view_pause_big = 0.35\n",
    "phase = 0\n",
    "amplitude = 10000\n",
    "\n",
    "sampling_rate = 44100\n",
    "sampling_period = 1./sampling_rate  # s\n",
    "n_samples = time_of_view/sampling_period\n",
    "\n",
    "time = np.linspace (0, time_of_view, int(n_samples + 1))\n",
    "time_pause_small = np.linspace (0, time_of_view_pause_small, int(n_samples + 1))\n",
    "time_pause_big = np.linspace (0, time_of_view_pause_big, int(n_samples + 1))\n",
    "\n",
    "def makeSong(songNotes):\n",
    "    song = []\n",
    "    for i in range(len(songNotes)):\n",
    "        if songNotes[i] == 'Pause_Small':\n",
    "            song = np.concatenate((song, sine(amplitude, 10, time_pause_small, phase)), axis=None)\n",
    "        elif songNotes[i] == 'Pause_Big':\n",
    "            song = np.concatenate((song, sine(amplitude, 15, time_pause_big, phase)), axis=None)\n",
    "        else:\n",
    "            song = np.concatenate((song, sine(amplitude, int(musical_notes[songNotes[i]]), time, phase)), axis=None)\n",
    "    return song\n",
    "            \n",
    "songNotes = ['Do1', 'Re', 'Mi', 'Do1', 'Pause_Small', 'Do1', 'Re', 'Mi', 'Do1', 'Pause_Big', 'Mi', 'Fa', 'Sol', 'Pause_Small', 'Mi', 'Fa', 'Sol', 'Pause_Big', 'Sol', 'La', 'Sol', 'Fa', 'Mi', 'Do1', 'Pause_Small', 'Sol', 'La', 'Sol', 'Fa', 'Mi', 'Do1' , 'Pause_Big', 'Do1', 'Sol', 'Do2', 'Pause_Small', 'Do1', 'Sol', 'Do2']\n",
    "sd.default.samplerate = sampling_rate\n",
    "\n",
    "wav_wave = np.array(makeSong(songNotes), dtype=np.int16)\n",
    "sd.play(wav_wave, blocking=True)\n",
    "sd.stop()"
   ]
  },
  {
   "cell_type": "markdown",
   "id": "733d9e87",
   "metadata": {},
   "source": [
    "# 3. Citiți o partitură la intrare (folosind LilyPond sau formatul propriu) și produceți semnalul ce conține melodia la ieșire prin compunerea tonurilor asociate notelor automat.\n",
    "\n",
    "Ne folosim in acest punct de functia _makeSong_ si de dictionarul _musical_notes_ din punctele anterioare. Prin functia _readPartition()_ Citim din fisierul _FrereJacques_ linii, despartim fiecare element de pe linie si obtinem o lista ca _songNotes_ de la punctul 2, partitura returnata este dupa folosita prin functia _makeSong_ pentru a genera semnalul cantecului redat.\n",
    "\n",
    "Formatul textului este doar din elemente din cheile dictionarului _musical_notes_."
   ]
  },
  {
   "cell_type": "code",
   "execution_count": 9,
   "id": "d9513bb4",
   "metadata": {},
   "outputs": [],
   "source": [
    "def readPartition():\n",
    "    partition = []\n",
    "    with open('FrereJacques.txt') as s:\n",
    "        for line in s.readlines():\n",
    "            for note in line.split():\n",
    "                partition.append(str(note))\n",
    "    return partition\n",
    "    \n",
    "    \n",
    "    \n",
    "sd.default.samplerate = sampling_rate\n",
    "wav_wave = np.array(makeSong(readPartition()), dtype=np.int16)\n",
    "sd.play(wav_wave, blocking=True)\n",
    "sd.stop()"
   ]
  },
  {
   "cell_type": "code",
   "execution_count": null,
   "id": "a6a47c8d",
   "metadata": {},
   "outputs": [],
   "source": []
  }
 ],
 "metadata": {
  "kernelspec": {
   "display_name": "Python 3 (ipykernel)",
   "language": "python",
   "name": "python3"
  },
  "language_info": {
   "codemirror_mode": {
    "name": "ipython",
    "version": 3
   },
   "file_extension": ".py",
   "mimetype": "text/x-python",
   "name": "python",
   "nbconvert_exporter": "python",
   "pygments_lexer": "ipython3",
   "version": "3.9.7"
  }
 },
 "nbformat": 4,
 "nbformat_minor": 5
}
